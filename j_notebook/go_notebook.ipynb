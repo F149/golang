{
 "cells": [
  {
   "cell_type": "markdown",
   "id": "3c1d2d00",
   "metadata": {},
   "source": [
    "<p align=\"center\">\n",
    "  <img src=\"https://github.com/gopherdata/gophernotes/raw/master/files/gophernotes-logo.png\"\n",
    "width=\"500px\" /></p>\n",
    "\n",
    "<br/><br/>\n",
    "\n",
    "---\n",
    "\n",
    "<br/><br/>"
   ]
  },
  {
   "cell_type": "markdown",
   "id": "fecdaf91",
   "metadata": {},
   "source": [
    "### Base"
   ]
  },
  {
   "cell_type": "code",
   "execution_count": 2,
   "id": "02c7f02a",
   "metadata": {},
   "outputs": [],
   "source": [
    "import \"fmt\""
   ]
  },
  {
   "cell_type": "code",
   "execution_count": 23,
   "id": "e16d8b32",
   "metadata": {},
   "outputs": [
    {
     "data": {
      "text/plain": [
       "24"
      ]
     },
     "execution_count": 23,
     "metadata": {},
     "output_type": "execute_result"
    }
   ],
   "source": [
    "func factorial(f int64) int64 {\n",
    "    if f == 0 {\n",
    "        return 1\n",
    "    }\n",
    "    return f * factorial(f-1)\n",
    "}\n",
    "factorial(4)"
   ]
  },
  {
   "cell_type": "code",
   "execution_count": 24,
   "id": "a871a938",
   "metadata": {},
   "outputs": [
    {
     "data": {
      "text/plain": [
       "2432902008176640000"
      ]
     },
     "execution_count": 24,
     "metadata": {},
     "output_type": "execute_result"
    }
   ],
   "source": [
    "factorial(20)"
   ]
  },
  {
   "cell_type": "code",
   "execution_count": null,
   "id": "9c43b8eb",
   "metadata": {},
   "outputs": [],
   "source": []
  }
 ],
 "metadata": {
  "kernelspec": {
   "display_name": "Go",
   "language": "go",
   "name": "gophernotes"
  },
  "language_info": {
   "codemirror_mode": "",
   "file_extension": ".go",
   "mimetype": "",
   "name": "go",
   "nbconvert_exporter": "",
   "pygments_lexer": "",
   "version": "go1.16.15"
  }
 },
 "nbformat": 4,
 "nbformat_minor": 5
}
