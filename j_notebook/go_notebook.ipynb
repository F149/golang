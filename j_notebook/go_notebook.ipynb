{
 "cells": [
  {
   "cell_type": "markdown",
   "id": "dc6996a9",
   "metadata": {},
   "source": [
    "<p align=\"center\">\n",
    "  <img src=\"https://github.com/gopherdata/gophernotes/raw/master/files/gophernotes-logo.png\"\n",
    "width=\"500px\" /></p>\n",
    "\n",
    "<br/><br/>\n",
    "\n",
    "---\n",
    "\n",
    "<br/><br/>"
   ]
  },
  {
   "cell_type": "markdown",
   "id": "01c95a54",
   "metadata": {},
   "source": [
    "### Gola"
   ]
  },
  {
   "cell_type": "code",
   "execution_count": 2,
   "id": "2b05f2a1",
   "metadata": {},
   "outputs": [],
   "source": [
    "import \"fmt\""
   ]
  },
  {
   "cell_type": "code",
   "execution_count": 11,
   "id": "b633b847",
   "metadata": {},
   "outputs": [],
   "source": [
    "func factorial(f int64) int64 {\n",
    "    if f == 0 {\n",
    "        return 1\n",
    "    }\n",
    "    return f * factorial(f-1)\n",
    "}"
   ]
  },
  {
   "cell_type": "code",
   "execution_count": 19,
   "id": "146c8b5e",
   "metadata": {},
   "outputs": [
    {
     "data": {
      "text/plain": [
       "2432902008176640000"
      ]
     },
     "execution_count": 19,
     "metadata": {},
     "output_type": "execute_result"
    }
   ],
   "source": [
    "factorial(20)"
   ]
  }
 ],
 "metadata": {
  "kernelspec": {
   "display_name": "Go",
   "language": "go",
   "name": "gophernotes"
  },
  "language_info": {
   "codemirror_mode": "",
   "file_extension": ".go",
   "mimetype": "",
   "name": "go",
   "nbconvert_exporter": "",
   "pygments_lexer": "",
   "version": "go1.16.15"
  }
 },
 "nbformat": 4,
 "nbformat_minor": 5
}
