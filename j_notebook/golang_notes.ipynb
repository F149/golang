{
 "cells": [
  {
   "cell_type": "markdown",
   "id": "0858df44",
   "metadata": {},
   "source": [
    "<br/><br/>\n",
    "<p style=\"text-align: center\">\n",
    "    <b>######################################################</b>\n",
    "</p>\n",
    "<p style=\"text-align: center\">\n",
    "    <b>GOLANG NOTES</b>\n",
    "</p>\n",
    "<p style=\"text-align: center\">\n",
    "        <b>######################################################</b>\n",
    "</p>\n",
    "<br/><br/>\n",
    "\n",
    "<p style=\"text-align: center\">\n",
    "    <b>________________________________________________________________________________________</b>\n",
    "</p>\n",
    "<br/><br/>\n",
    "<br/><br/>\n"
   ]
  },
  {
   "cell_type": "code",
   "execution_count": 16,
   "id": "fea215df",
   "metadata": {},
   "outputs": [],
   "source": [
    "import (\n",
    "    \"fmt\" \n",
    "    \"math/rand\"\n",
    ")"
   ]
  },
  {
   "cell_type": "code",
   "execution_count": 23,
   "id": "f901d36c",
   "metadata": {},
   "outputs": [
    {
     "data": {
      "text/plain": [
       "3.80657189299686"
      ]
     },
     "execution_count": 23,
     "metadata": {},
     "output_type": "execute_result"
    }
   ],
   "source": [
    "rand.Float64() * 10.0"
   ]
  },
  {
   "cell_type": "code",
   "execution_count": 46,
   "id": "f11a79a7",
   "metadata": {},
   "outputs": [],
   "source": [
    "var a int64\n",
    "var b float64\n",
    "var c string //return empty string -> \"\"\n",
    "var d bool"
   ]
  },
  {
   "cell_type": "code",
   "execution_count": 40,
   "id": "acb5c4f1",
   "metadata": {},
   "outputs": [
    {
     "name": "stdout",
     "output_type": "stream",
     "text": [
      "0 0false"
     ]
    },
    {
     "data": {
      "text/plain": [
       "8 <nil>"
      ]
     },
     "execution_count": 40,
     "metadata": {},
     "output_type": "execute_result"
    }
   ],
   "source": [
    "fmt.Print(a, b, c, d)"
   ]
  },
  {
   "cell_type": "code",
   "execution_count": 47,
   "id": "ac437311",
   "metadata": {},
   "outputs": [
    {
     "name": "stdout",
     "output_type": "stream",
     "text": [
      "Hello world!\n"
     ]
    }
   ],
   "source": [
    "str := \"world!\"\n",
    "\n",
    "_, err := fmt.Printf(\"Hello %s\\n\", str)\n",
    "if err != nil {\n",
    "    fmt.Println(\"ERROR!\")\n",
    "}"
   ]
  },
  {
   "cell_type": "code",
   "execution_count": 60,
   "id": "6ef825e5",
   "metadata": {},
   "outputs": [
    {
     "data": {
      "text/plain": [
       "Does Go rule? true!"
      ]
     },
     "execution_count": 60,
     "metadata": {},
     "output_type": "execute_result"
    }
   ],
   "source": [
    "const language string = \"Go\"\n",
    "var favorite bool = true\n",
    "\n",
    "const text = \"Does %s rule? %t!\"\n",
    "var output = fmt.Sprintf(text, language, favorite)\n",
    "output"
   ]
  },
  {
   "cell_type": "markdown",
   "id": "8135662c",
   "metadata": {},
   "source": [
    "#### Облачная система - масштабируемая, малосвязная, устойчивая, управляемая и доступная к наблюдению система.\n",
    "#### Особенности облачных программ\n",
    "> - Сложность кодовой базы, замысловатость программ.\n",
    "> - Медленная сборка.\n",
    "> - Неэффективность из-за использования более гибких и динамических языков, выразительность в ущерб эффективности.\n",
    "> - Высокая стоимость обновлений из-за большого кол-ва зависимостей.\n",
    "\n",
    "- Параллелизм описывает одновременное выполнение нескольких независимых процессов\n",
    "- Конкуренция описывает комплекс независимо выполняющихся процессов, но не говорит о том, когда эти процессы будут выполняться.\n"
   ]
  },
  {
   "cell_type": "markdown",
   "id": "25b98ace",
   "metadata": {},
   "source": [
    "### Массивы"
   ]
  },
  {
   "cell_type": "code",
   "execution_count": 17,
   "id": "1dfb4240",
   "metadata": {},
   "outputs": [
    {
     "name": "stdout",
     "output_type": "stream",
     "text": [
      "[0 22 0]\n",
      "22\n"
     ]
    },
    {
     "data": {
      "text/plain": [
       "3 <nil>"
      ]
     },
     "execution_count": 17,
     "metadata": {},
     "output_type": "execute_result"
    }
   ],
   "source": [
    "var x [3]int\n",
    "\n",
    "x[1] = 22\n",
    "a := x[1]\n",
    "fmt.Println(x)\n",
    "fmt.Println(a)"
   ]
  },
  {
   "cell_type": "code",
   "execution_count": 18,
   "id": "60fcf58f",
   "metadata": {},
   "outputs": [
    {
     "name": "stdout",
     "output_type": "stream",
     "text": [
      "22\n",
      "5\n"
     ]
    },
    {
     "data": {
      "text/plain": [
       "2 <nil>"
      ]
     },
     "execution_count": 18,
     "metadata": {},
     "output_type": "execute_result"
    }
   ],
   "source": [
    "var mas[22]int\n",
    "mas_2 := [2]int{1, 2}\n",
    "mas_3 := [...]int{2, 22, 222, 2222, 22222}\n",
    "\n",
    "fmt.Println(len(mas))\n",
    "fmt.Println(len(mas_3))"
   ]
  },
  {
   "cell_type": "markdown",
   "id": "bd090d66",
   "metadata": {},
   "source": [
    "### Slices\n",
    "![golang slice image](img/go_slice.png)"
   ]
  },
  {
   "cell_type": "code",
   "execution_count": null,
   "id": "a5f1685b",
   "metadata": {},
   "outputs": [],
   "source": []
  }
 ],
 "metadata": {
  "kernelspec": {
   "display_name": "Go",
   "language": "go",
   "name": "gophernotes"
  },
  "language_info": {
   "codemirror_mode": "",
   "file_extension": ".go",
   "mimetype": "",
   "name": "go",
   "nbconvert_exporter": "",
   "pygments_lexer": "",
   "version": "go1.16.15"
  }
 },
 "nbformat": 4,
 "nbformat_minor": 5
}
