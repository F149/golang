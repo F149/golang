{
 "cells": [
  {
   "cell_type": "markdown",
   "id": "0858df44",
   "metadata": {},
   "source": [
    "<br/><br/>\n",
    "<p style=\"text-align: center\">\n",
    "    <b>######################################################</b>\n",
    "</p>\n",
    "<p style=\"text-align: center\">\n",
    "    <b>GOLANG NOTES</b>\n",
    "</p>\n",
    "<p style=\"text-align: center\">\n",
    "        <b>######################################################</b>\n",
    "</p>\n",
    "<br/><br/>\n",
    "\n",
    "<p style=\"text-align: center\">\n",
    "    <b>________________________________________________________________________________________</b>\n",
    "</p>\n",
    "<br/><br/>\n",
    "<br/><br/>\n"
   ]
  },
  {
   "cell_type": "code",
   "execution_count": 16,
   "id": "fea215df",
   "metadata": {},
   "outputs": [],
   "source": [
    "import (\n",
    "    \"fmt\" \n",
    "    \"math/rand\"\n",
    ")"
   ]
  },
  {
   "cell_type": "code",
   "execution_count": 23,
   "id": "f901d36c",
   "metadata": {},
   "outputs": [
    {
     "data": {
      "text/plain": [
       "3.80657189299686"
      ]
     },
     "execution_count": 23,
     "metadata": {},
     "output_type": "execute_result"
    }
   ],
   "source": [
    "rand.Float64() * 10.0"
   ]
  },
  {
   "cell_type": "code",
   "execution_count": 46,
   "id": "f11a79a7",
   "metadata": {},
   "outputs": [],
   "source": [
    "var a int64\n",
    "var b float64\n",
    "var c string //return empty string -> \"\"\n",
    "var d bool"
   ]
  },
  {
   "cell_type": "code",
   "execution_count": 40,
   "id": "acb5c4f1",
   "metadata": {},
   "outputs": [
    {
     "name": "stdout",
     "output_type": "stream",
     "text": [
      "0 0false"
     ]
    },
    {
     "data": {
      "text/plain": [
       "8 <nil>"
      ]
     },
     "execution_count": 40,
     "metadata": {},
     "output_type": "execute_result"
    }
   ],
   "source": [
    "fmt.Print(a, b, c, d)"
   ]
  },
  {
   "cell_type": "code",
   "execution_count": 47,
   "id": "ac437311",
   "metadata": {},
   "outputs": [
    {
     "name": "stdout",
     "output_type": "stream",
     "text": [
      "Hello world!\n"
     ]
    }
   ],
   "source": [
    "str := \"world!\"\n",
    "\n",
    "_, err := fmt.Printf(\"Hello %s\\n\", str)\n",
    "if err != nil {\n",
    "    fmt.Println(\"ERROR!\")\n",
    "}"
   ]
  },
  {
   "cell_type": "code",
   "execution_count": 60,
   "id": "6ef825e5",
   "metadata": {},
   "outputs": [
    {
     "data": {
      "text/plain": [
       "Does Go rule? true!"
      ]
     },
     "execution_count": 60,
     "metadata": {},
     "output_type": "execute_result"
    }
   ],
   "source": [
    "const language string = \"Go\"\n",
    "var favorite bool = true\n",
    "\n",
    "const text = \"Does %s rule? %t!\"\n",
    "var output = fmt.Sprintf(text, language, favorite)\n",
    "output"
   ]
  },
  {
   "cell_type": "markdown",
   "id": "8135662c",
   "metadata": {},
   "source": [
    "#### Облачная система - масштабируемая, малосвязная, устойчивая, управляемая и доступная к наблюдению система.\n",
    "#### Особенности облачных программ\n",
    "> - Сложность кодовой базы, замысловатость программ.\n",
    "> - Медленная сборка.\n",
    "> - Неэффективность из-за использования более гибких и динамических языков, выразительность в ущерб эффективности.\n",
    "> - Высокая стоимость обновлений из-за большого кол-ва зависимостей.\n",
    "\n",
    "- Параллелизм описывает одновременное выполнение нескольких независимых процессов\n",
    "- Конкуренция описывает комплекс независимо выполняющихся процессов, но не говорит о том, когда эти процессы будут выполняться.\n"
   ]
  },
  {
   "cell_type": "markdown",
   "id": "1d450e3e",
   "metadata": {},
   "source": [
    "### Массивы"
   ]
  },
  {
   "cell_type": "code",
   "execution_count": 17,
   "id": "1dfb4240",
   "metadata": {},
   "outputs": [
    {
     "name": "stdout",
     "output_type": "stream",
     "text": [
      "[0 22 0]\n",
      "22\n"
     ]
    },
    {
     "data": {
      "text/plain": [
       "3 <nil>"
      ]
     },
     "execution_count": 17,
     "metadata": {},
     "output_type": "execute_result"
    }
   ],
   "source": [
    "var x [3]int\n",
    "\n",
    "x[1] = 22\n",
    "a := x[1]\n",
    "fmt.Println(x)\n",
    "fmt.Println(a)"
   ]
  },
  {
   "cell_type": "code",
   "execution_count": 18,
   "id": "60fcf58f",
   "metadata": {},
   "outputs": [
    {
     "name": "stdout",
     "output_type": "stream",
     "text": [
      "22\n",
      "5\n"
     ]
    },
    {
     "data": {
      "text/plain": [
       "2 <nil>"
      ]
     },
     "execution_count": 18,
     "metadata": {},
     "output_type": "execute_result"
    }
   ],
   "source": [
    "var mas[22]int\n",
    "mas_2 := [2]int{1, 2}\n",
    "mas_3 := [...]int{2, 22, 222, 2222, 22222}\n",
    "\n",
    "fmt.Println(len(mas))\n",
    "fmt.Println(len(mas_3))"
   ]
  },
  {
   "cell_type": "markdown",
   "id": "bd090d66",
   "metadata": {},
   "source": [
    "### Slices\n",
    "![golang slice image](img/go_slice.png)\n",
    ">- Срез состоит из трех компонентов - указатель на начало среза, кол-во элементов, емкость(максимально возможное значение длины.) Если емкость не указана, присваивается значение равное кол-ву элементов лежащих в основе среза."
   ]
  },
  {
   "cell_type": "code",
   "execution_count": 42,
   "id": "8d63fea4",
   "metadata": {},
   "outputs": [
    {
     "name": "stdout",
     "output_type": "stream",
     "text": [
      "new_slise => [0 0 0 0 0 0 0 0 0 0 0 0 0 0 0 0 0 0 0 0 0 0]\n",
      "nes_slice len =>  22\n",
      "new_slice =>  [0 0 222 0 0 0 0 0 0 0 0 0 222 0 0 0 0 0 0 0 0 222]\n",
      "new_slice append =>  [0 0 222 0 0 0 0 0 0 0 0 0 222 0 0 0 0 0 0 0 0 222 22]\n"
     ]
    },
    {
     "data": {
      "text/plain": [
       "76 <nil>"
      ]
     },
     "execution_count": 42,
     "metadata": {},
     "output_type": "execute_result"
    }
   ],
   "source": [
    "new_slice := make([]int, 22)\n",
    "fmt.Println(\"new_slise =>\", new_slice)\n",
    "fmt.Println(\"nes_slice len => \", len(new_slice))\n",
    "\n",
    "new_slice[2] = 222\n",
    "new_slice[12] = 222\n",
    "new_slice[21] = 222\n",
    "fmt.Println(\"new_slice => \", new_slice)\n",
    "\n",
    "new_slice = append(new_slice, 22)\n",
    "fmt.Println(\"new_slice append => \", new_slice)\n"
   ]
  },
  {
   "cell_type": "code",
   "execution_count": 43,
   "id": "17fea7f6",
   "metadata": {},
   "outputs": [
    {
     "name": "stdout",
     "output_type": "stream",
     "text": [
      "append new_slice to itself =>  [0 0 222 0 0 0 0 0 0 0 0 0 222 0 0 0 0 0 0 0 0 222 22 0 0 222 0 0 0 0 0 0 0 0 0 222 0 0 0 0 0 0 0 0 222 22]\n"
     ]
    },
    {
     "data": {
      "text/plain": [
       "139 <nil>"
      ]
     },
     "execution_count": 43,
     "metadata": {},
     "output_type": "execute_result"
    }
   ],
   "source": [
    "new_slice = append(new_slice, new_slice...)\n",
    "fmt.Println(\"append new_slice to itself => \", new_slice)"
   ]
  },
  {
   "cell_type": "markdown",
   "id": "135d5c70",
   "metadata": {},
   "source": [
    ">- APPEND возвращает расшиенный срез, частая ошибка - его несохранение"
   ]
  },
  {
   "cell_type": "code",
   "execution_count": 54,
   "id": "e80b1635",
   "metadata": {},
   "outputs": [
    {
     "name": "stdout",
     "output_type": "stream",
     "text": [
      "s0 =>  [0 1 2 3 4 5 6]\n",
      "s1 = s0[:5] =>  [0 1 2 3 4]\n",
      "s2 = s0[2:3] =>  [2]\n"
     ]
    },
    {
     "data": {
      "text/plain": [
       "21 <nil>"
      ]
     },
     "execution_count": 54,
     "metadata": {},
     "output_type": "execute_result"
    }
   ],
   "source": [
    "s0 := []int{0, 1, 2, 3, 4, 5, 6}\n",
    "fmt.Println(\"s0 => \", s0)\n",
    "\n",
    "s1 := s0[:5]\n",
    "fmt.Println(\"s1 = s0[:5] => \", s1)\n",
    "\n",
    "s2 := s0[2:3]\n",
    "fmt.Println(\"s2 = s0[2:3] => \", s2)"
   ]
  },
  {
   "cell_type": "code",
   "execution_count": 55,
   "id": "ff6e8c05",
   "metadata": {},
   "outputs": [
    {
     "name": "stdout",
     "output_type": "stream",
     "text": [
      "s0 =  [0 1 222 3 4 5 6]\n",
      "s1 =  [0 1 222 3 4]\n",
      "s2 =  [222]\n"
     ]
    },
    {
     "data": {
      "text/plain": [
       "12 <nil>"
      ]
     },
     "execution_count": 55,
     "metadata": {},
     "output_type": "execute_result"
    }
   ],
   "source": [
    "s0[2] = 222\n",
    "fmt.Println(\"s0 = \", s0)\n",
    "fmt.Println(\"s1 = \", s1)\n",
    "fmt.Println(\"s2 = \", s2)"
   ]
  },
  {
   "cell_type": "markdown",
   "id": "f1c69058",
   "metadata": {},
   "source": [
    "#### String - просто срез байтов, доступных только для чтения. Обычно содержат последовательность символов UTF-8 представляющих \"кодовые точки\" юникода называемые рунами()"
   ]
  },
  {
   "cell_type": "code",
   "execution_count": 58,
   "id": "9ebdea4d",
   "metadata": {},
   "outputs": [
    {
     "name": "stdout",
     "output_type": "stream",
     "text": [
      " string foö\n",
      "[]int32 [102 111 246]\n",
      "[]uint8 [102 111 195 182]\n"
     ]
    },
    {
     "data": {
      "text/plain": [
       "26 <nil>"
      ]
     },
     "execution_count": 58,
     "metadata": {},
     "output_type": "execute_result"
    }
   ],
   "source": [
    "str := \"foö\"\n",
    "to_rune := []rune(str)\n",
    "to_byte := []byte(str)\n",
    "\n",
    "fmt.Printf(\"%7T %v\\n\", str, str)\n",
    "fmt.Printf(\"%7T %v\\n\", to_rune, to_rune)\n",
    "fmt.Printf(\"%7T %v\\n\", to_byte, to_byte)"
   ]
  },
  {
   "cell_type": "markdown",
   "id": "ee65501e",
   "metadata": {},
   "source": [
    ">- byte и rune - это мнемонические псевдонимы для uint8 и int32"
   ]
  },
  {
   "cell_type": "code",
   "execution_count": 63,
   "id": "51e614c3",
   "metadata": {},
   "outputs": [
    {
     "name": "stdout",
     "output_type": "stream",
     "text": [
      "sample =>  ��=� ⌘\n",
      "bd b2 3d bc 20 e2 8c 98 "
     ]
    }
   ],
   "source": [
    "const sample = \"\\xbd\\xb2\\x3d\\xbc\\x20\\xe2\\x8c\\x98\"\n",
    "fmt.Println(\"sample => \", sample)\n",
    "\n",
    "for i := 0; i < len(sample); i++ {\n",
    "        fmt.Printf(\"%x \", sample[i])\n",
    "    }"
   ]
  },
  {
   "cell_type": "markdown",
   "id": "a3356171",
   "metadata": {},
   "source": [
    "#### Ассоциаттиный массив в GO реализован в виде хеш-таблицы"
   ]
  },
  {
   "cell_type": "code",
   "execution_count": 69,
   "id": "358a12b2",
   "metadata": {},
   "outputs": [
    {
     "name": "stdout",
     "output_type": "stream",
     "text": [
      "freez[kelvin] 253.2\n",
      "len freez =>  3\n",
      "len freez after del =>  2\n"
     ]
    },
    {
     "data": {
      "text/plain": [
       "26 <nil>"
      ]
     },
     "execution_count": 69,
     "metadata": {},
     "output_type": "execute_result"
    }
   ],
   "source": [
    "freez := make(map[string]float32)\n",
    "\n",
    "freez[\"celsius\"] = 0.0\n",
    "freez[\"fahrenheit\"] = 32.0\n",
    "freez[\"kelvin\"] = 253.2\n",
    "\n",
    "fmt.Println(\"freez[kelvin]\", freez[\"kelvin\"])\n",
    "fmt.Println(\"len freez => \", len(freez))\n",
    "\n",
    "delete(freez, \"fahrenheit\")\n",
    "fmt.Println(\"len freez after del => \", len(freez))"
   ]
  },
  {
   "cell_type": "code",
   "execution_count": 70,
   "id": "2af2965e",
   "metadata": {},
   "outputs": [
    {
     "name": "stdout",
     "output_type": "stream",
     "text": [
      "new_freez => map[celsius:0 fahrenheit:32 kelvin:273.2]\n"
     ]
    },
    {
     "data": {
      "text/plain": [
       "55 <nil>"
      ]
     },
     "execution_count": 70,
     "metadata": {},
     "output_type": "execute_result"
    }
   ],
   "source": [
    "new_freez := map[string]float32 {\n",
    "    \"celsius\": 0.0,\n",
    "    \"fahrenheit\": 32.0,\n",
    "    \"kelvin\": 273.2,\n",
    "}\n",
    "fmt.Println(\"new_freez =>\", new_freez)"
   ]
  },
  {
   "cell_type": "markdown",
   "id": "6fe64158",
   "metadata": {},
   "source": [
    "#### Проверка наличия элемента в массиве"
   ]
  },
  {
   "cell_type": "code",
   "execution_count": 72,
   "id": "ef43d2ca",
   "metadata": {},
   "outputs": [
    {
     "name": "stdout",
     "output_type": "stream",
     "text": [
      "0\n"
     ]
    },
    {
     "data": {
      "text/plain": [
       "2 <nil>"
      ]
     },
     "execution_count": 72,
     "metadata": {},
     "output_type": "execute_result"
    }
   ],
   "source": [
    "foo := freez[\"no-such-key\"]\n",
    "fmt.Println(foo)"
   ]
  },
  {
   "cell_type": "code",
   "execution_count": 75,
   "id": "a7dde29d",
   "metadata": {},
   "outputs": [
    {
     "name": "stdout",
     "output_type": "stream",
     "text": [
      "0\n",
      "false\n"
     ]
    },
    {
     "data": {
      "text/plain": [
       "6 <nil>"
      ]
     },
     "execution_count": 75,
     "metadata": {},
     "output_type": "execute_result"
    }
   ],
   "source": [
    "newton, ok := freez[\"newton\"]\n",
    "fmt.Println(newton)\n",
    "fmt.Println(ok)"
   ]
  },
  {
   "cell_type": "markdown",
   "id": "0812eb8d",
   "metadata": {},
   "source": [
    "### Указатели\n",
    "![golang pointer image](img/pointer.png)"
   ]
  },
  {
   "cell_type": "code",
   "execution_count": 81,
   "id": "9263428e",
   "metadata": {},
   "outputs": [
    {
     "name": "stdout",
     "output_type": "stream",
     "text": [
      "var a => 222\n",
      "point to &a => 0xc0006fc000\n",
      "get data from *point => 222\n"
     ]
    },
    {
     "data": {
      "text/plain": [
       "28 <nil>"
      ]
     },
     "execution_count": 81,
     "metadata": {},
     "output_type": "execute_result"
    }
   ],
   "source": [
    "a := 222\n",
    "var point*int = &a\n",
    "fmt.Println(\"var a =>\", a)\n",
    "fmt.Println(\"point to &a =>\", point)\n",
    "fmt.Println(\"get data from *point =>\", *point)"
   ]
  },
  {
   "cell_type": "code",
   "execution_count": 83,
   "id": "4362dd23",
   "metadata": {},
   "outputs": [
    {
     "name": "stdout",
     "output_type": "stream",
     "text": [
      "Change a by *point => 22222\n"
     ]
    },
    {
     "data": {
      "text/plain": [
       "28 <nil>"
      ]
     },
     "execution_count": 83,
     "metadata": {},
     "output_type": "execute_result"
    }
   ],
   "source": [
    "*point = 22222\n",
    "fmt.Println(\"Change a by *point =>\", a)"
   ]
  },
  {
   "cell_type": "code",
   "execution_count": 85,
   "id": "429076fa",
   "metadata": {},
   "outputs": [
    {
     "name": "stdout",
     "output_type": "stream",
     "text": [
      "var_a => 0\n",
      "var_a => 0xc0006fc020\n"
     ]
    },
    {
     "data": {
      "text/plain": [
       "22 <nil>"
      ]
     },
     "execution_count": 85,
     "metadata": {},
     "output_type": "execute_result"
    }
   ],
   "source": [
    "var var_a int\n",
    "fmt.Println(\"var_a =>\", var_a)\n",
    "fmt.Println(\"var_a =>\", &var_a)"
   ]
  },
  {
   "cell_type": "markdown",
   "id": "17ab78aa",
   "metadata": {},
   "source": [
    "### Управляющие структуры"
   ]
  },
  {
   "cell_type": "code",
   "execution_count": null,
   "id": "1a3e9c19",
   "metadata": {},
   "outputs": [],
   "source": []
  }
 ],
 "metadata": {
  "kernelspec": {
   "display_name": "Go",
   "language": "go",
   "name": "gophernotes"
  },
  "language_info": {
   "codemirror_mode": "",
   "file_extension": ".go",
   "mimetype": "",
   "name": "go",
   "nbconvert_exporter": "",
   "pygments_lexer": "",
   "version": "go1.16.15"
  }
 },
 "nbformat": 4,
 "nbformat_minor": 5
}
