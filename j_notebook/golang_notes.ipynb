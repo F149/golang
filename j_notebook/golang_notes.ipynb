{
 "cells": [
  {
   "cell_type": "markdown",
   "id": "0858df44",
   "metadata": {},
   "source": [
    "<br/><br/>\n",
    "<p style=\"text-align: center\">\n",
    "    <b>######################################################</b>\n",
    "</p>\n",
    "<p style=\"text-align: center\">\n",
    "    <b>GOLANG NOTES</b>\n",
    "</p>\n",
    "<p style=\"text-align: center\">\n",
    "        <b>######################################################</b>\n",
    "</p>\n",
    "<br/><br/>\n",
    "\n",
    "<p style=\"text-align: center\">\n",
    "    <b>________________________________________________________________________________________</b>\n",
    "</p>\n",
    "<br/><br/>\n",
    "<br/><br/>\n"
   ]
  },
  {
   "cell_type": "code",
   "execution_count": 9,
   "id": "fea215df",
   "metadata": {},
   "outputs": [],
   "source": [
    "import (\n",
    "    \"fmt\" \n",
    "    \"math/rand\"\n",
    ")"
   ]
  },
  {
   "cell_type": "code",
   "execution_count": 23,
   "id": "f901d36c",
   "metadata": {},
   "outputs": [
    {
     "data": {
      "text/plain": [
       "3.80657189299686"
      ]
     },
     "execution_count": 23,
     "metadata": {},
     "output_type": "execute_result"
    }
   ],
   "source": [
    "rand.Float64() * 10.0"
   ]
  },
  {
   "cell_type": "code",
   "execution_count": 46,
   "id": "f11a79a7",
   "metadata": {},
   "outputs": [],
   "source": [
    "var a int64\n",
    "var b float64\n",
    "var c string //return empty string -> \"\"\n",
    "var d bool"
   ]
  },
  {
   "cell_type": "code",
   "execution_count": 40,
   "id": "acb5c4f1",
   "metadata": {},
   "outputs": [
    {
     "name": "stdout",
     "output_type": "stream",
     "text": [
      "0 0false"
     ]
    },
    {
     "data": {
      "text/plain": [
       "8 <nil>"
      ]
     },
     "execution_count": 40,
     "metadata": {},
     "output_type": "execute_result"
    }
   ],
   "source": [
    "fmt.Print(a, b, c, d)"
   ]
  },
  {
   "cell_type": "code",
   "execution_count": 47,
   "id": "ac437311",
   "metadata": {},
   "outputs": [
    {
     "name": "stdout",
     "output_type": "stream",
     "text": [
      "Hello world!\n"
     ]
    }
   ],
   "source": [
    "str := \"world!\"\n",
    "\n",
    "_, err := fmt.Printf(\"Hello %s\\n\", str)\n",
    "if err != nil {\n",
    "    fmt.Println(\"ERROR!\")\n",
    "}"
   ]
  },
  {
   "cell_type": "code",
   "execution_count": 60,
   "id": "6ef825e5",
   "metadata": {},
   "outputs": [
    {
     "data": {
      "text/plain": [
       "Does Go rule? true!"
      ]
     },
     "execution_count": 60,
     "metadata": {},
     "output_type": "execute_result"
    }
   ],
   "source": [
    "const language string = \"Go\"\n",
    "var favorite bool = true\n",
    "\n",
    "const text = \"Does %s rule? %t!\"\n",
    "var output = fmt.Sprintf(text, language, favorite)\n",
    "output"
   ]
  },
  {
   "cell_type": "code",
   "execution_count": null,
   "id": "e8d77e2b",
   "metadata": {},
   "outputs": [],
   "source": []
  }
 ],
 "metadata": {
  "kernelspec": {
   "display_name": "Go",
   "language": "go",
   "name": "gophernotes"
  },
  "language_info": {
   "codemirror_mode": "",
   "file_extension": ".go",
   "mimetype": "",
   "name": "go",
   "nbconvert_exporter": "",
   "pygments_lexer": "",
   "version": "go1.16.15"
  }
 },
 "nbformat": 4,
 "nbformat_minor": 5
}
