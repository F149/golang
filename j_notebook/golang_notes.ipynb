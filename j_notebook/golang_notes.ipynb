{
 "cells": [
  {
   "cell_type": "markdown",
   "id": "3fff31ec",
   "metadata": {},
   "source": [
    "<br/><br/>\n",
    "<p style=\"text-align: center\">\n",
    "    <b>######################################################</b>\n",
    "</p>\n",
    "<p style=\"text-align: center\">\n",
    "    <b>GOLANG NOTES</b>\n",
    "</p>\n",
    "<p style=\"text-align: center\">\n",
    "        <b>######################################################</b>\n",
    "</p>\n",
    "<br/><br/>\n",
    "\n",
    "<p style=\"text-align: center\">\n",
    "    <b>________________________________________________________________________________________</b>\n",
    "</p>\n",
    "<br/><br/>\n",
    "<br/><br/>\n"
   ]
  },
  {
   "cell_type": "code",
   "execution_count": null,
   "id": "0ebff290",
   "metadata": {},
   "outputs": [],
   "source": []
  }
 ],
 "metadata": {
  "kernelspec": {
   "display_name": "Go",
   "language": "go",
   "name": "gophernotes"
  },
  "language_info": {
   "codemirror_mode": "",
   "file_extension": ".go",
   "mimetype": "",
   "name": "go",
   "nbconvert_exporter": "",
   "pygments_lexer": "",
   "version": "go1.16.15"
  }
 },
 "nbformat": 4,
 "nbformat_minor": 5
}
